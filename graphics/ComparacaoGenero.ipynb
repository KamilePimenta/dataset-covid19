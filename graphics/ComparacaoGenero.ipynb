{
 "cells": [
  {
   "cell_type": "code",
   "execution_count": 1,
   "id": "3efc10aa",
   "metadata": {},
   "outputs": [
    {
     "data": {
      "text/plain": [
       "<AxesSubplot:>"
      ]
     },
     "execution_count": 1,
     "metadata": {},
     "output_type": "execute_result"
    },
    {
     "data": {
      "image/png": "[encoded data removed]",
      "text/plain": [
       "<Figure size 432x288 with 1 Axes>"
      ]
     },
     "metadata": {
      "needs_background": "light"
     },
     "output_type": "display_data"
    }
   ],
   "source": [
    "import pandas as pd\n",
    "import matplotlib.pyplot as plt\n",
    "covid19 = pd.read_csv(\"../datasets/covid-19-espirito-santo.csv\", sep=\";\", encoding=\"ISO-8859-1\")\n",
    "\n",
    "casosFeminino = covid19.query('Sexo == \"F\"')\n",
    "totalFConfimados = len(casosFeminino.query('Classificacao == \"Confirmados\"'))\n",
    "totalFSuspeitos = len(casosFeminino.query('Classificacao == \"Suspeito\"'))\n",
    "totalFObitos = len(casosFeminino[casosFeminino['DataObito'].notnull()])\n",
    "\n",
    "casosMasculino = covid19.query('Sexo == \"M\"')\n",
    "totalMConfimados = len(casosMasculino.query('Classificacao == \"Confirmados\"'))\n",
    "totalMSuspeitos = len(casosMasculino.query('Classificacao == \"Suspeito\"'))\n",
    "totalMObitos = len(casosMasculino[casosMasculino['DataObito'].notnull()])\n",
    "\n",
    "dataframe = pd.DataFrame({\n",
    "    'Feminino': [totalFConfimados, totalFSuspeitos, totalFObitos],\n",
    "    'Masculino': [totalMConfimados, totalMSuspeitos, totalMObitos],\n",
    "}, index = ['Confirmados', 'Suspeitos','Óbitos'])\n",
    "\n",
    "dataframe.plot.bar(rot=0)"
   ]
  },
  {
   "cell_type": "code",
   "execution_count": null,
   "id": "7f9798d1",
   "metadata": {},
   "outputs": [],
   "source": []
  }
 ],
 "metadata": {
  "kernelspec": {
   "display_name": "Python 3 (ipykernel)",
   "language": "python",
   "name": "python3"
  },
  "language_info": {
   "codemirror_mode": {
    "name": "ipython",
    "version": 3
   },
   "file_extension": ".py",
   "mimetype": "text/x-python",
   "name": "python",
   "nbconvert_exporter": "python",
   "pygments_lexer": "ipython3",
   "version": "3.10.4"
  }
 },
 "nbformat": 4,
 "nbformat_minor": 5
}
