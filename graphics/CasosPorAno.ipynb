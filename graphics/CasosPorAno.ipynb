{
 "cells": [
  {
   "cell_type": "code",
   "execution_count": 1,
   "id": "65ce1ccf",
   "metadata": {},
   "outputs": [
    {
     "data": {
      "text/plain": [
       "<AxesSubplot:>"
      ]
     },
     "execution_count": 1,
     "metadata": {},
     "output_type": "execute_result"
    },
    {
     "data": {
      "image/png": "[encoded data removed]",
      "text/plain": [
       "<Figure size 432x288 with 1 Axes>"
      ]
     },
     "metadata": {
      "needs_background": "light"
     },
     "output_type": "display_data"
    }
   ],
   "source": [
    "import pandas as pd\n",
    "import matplotlib.pyplot as plt\n",
    "covid19 = pd.read_csv(\"../datasets/covid-19-espirito-santo.csv\", sep=\";\", encoding=\"ISO-8859-1\")\n",
    "\n",
    "casos202001 = covid19[(covid19['DataNotificacao'] > '2020-01-01') & (covid19['DataNotificacao'] < '2020-01-31')]\n",
    "casos202002 = covid19[(covid19['DataNotificacao'] > '2020-02-01') & (covid19['DataNotificacao'] < '2020-02-29')]\n",
    "casos202003 = covid19[(covid19['DataNotificacao'] > '2020-03-01') & (covid19['DataNotificacao'] < '2020-03-31')]\n",
    "casos202004 = covid19[(covid19['DataNotificacao'] > '2020-04-01') & (covid19['DataNotificacao'] < '2020-04-31')]\n",
    "\n",
    "casos202101 = covid19[(covid19['DataNotificacao'] > '2021-01-01') & (covid19['DataNotificacao'] < '2021-01-31')]\n",
    "casos202102 = covid19[(covid19['DataNotificacao'] > '2021-02-01') & (covid19['DataNotificacao'] < '2021-02-29')]\n",
    "casos202103 = covid19[(covid19['DataNotificacao'] > '2021-03-01') & (covid19['DataNotificacao'] < '2021-03-31')]\n",
    "casos202104 = covid19[(covid19['DataNotificacao'] > '2021-04-01') & (covid19['DataNotificacao'] < '2021-04-31')]\n",
    "\n",
    "casos202201 = covid19[(covid19['DataNotificacao'] > '2022-01-01') & (covid19['DataNotificacao'] < '2022-01-31')]\n",
    "casos202202 = covid19[(covid19['DataNotificacao'] > '2022-02-01') & (covid19['DataNotificacao'] < '2022-02-29')]\n",
    "casos202203 = covid19[(covid19['DataNotificacao'] > '2022-03-01') & (covid19['DataNotificacao'] < '2022-03-31')]\n",
    "casos202204 = covid19[(covid19['DataNotificacao'] > '2022-04-01') & (covid19['DataNotificacao'] < '2022-04-31')]\n",
    "\n",
    "casosConfimados202001 = len(casos202001.query('Classificacao == \"Confirmados\"'))\n",
    "casosConfimados202002 = len(casos202002.query('Classificacao == \"Confirmados\"'))\n",
    "casosConfimados202003 = len(casos202003.query('Classificacao == \"Confirmados\"'))\n",
    "casosConfimados202004 = len(casos202004.query('Classificacao == \"Confirmados\"'))\n",
    "\n",
    "casosConfimados202101 = len(casos202101.query('Classificacao == \"Confirmados\"'))\n",
    "casosConfimados202102 = len(casos202102.query('Classificacao == \"Confirmados\"'))\n",
    "casosConfimados202103 = len(casos202103.query('Classificacao == \"Confirmados\"'))\n",
    "casosConfimados202104 = len(casos202104.query('Classificacao == \"Confirmados\"'))\n",
    "\n",
    "casosConfimados202201 = len(casos202201.query('Classificacao == \"Confirmados\"'))\n",
    "casosConfimados202202 = len(casos202202.query('Classificacao == \"Confirmados\"'))\n",
    "casosConfimados202203 = len(casos202203.query('Classificacao == \"Confirmados\"'))\n",
    "casosConfimados202204 = len(casos202204.query('Classificacao == \"Confirmados\"'))\n",
    "\n",
    "dataframe = pd.DataFrame({\n",
    "    '2020': [casosConfimados202001, casosConfimados202002, casosConfimados202003, casosConfimados202004],\n",
    "    '2021': [casosConfimados202101, casosConfimados202102, casosConfimados202103, casosConfimados202104],\n",
    "    '2022': [casosConfimados202201, casosConfimados202202, casosConfimados202203, casosConfimados202204],\n",
    "   }, index=['Jan', 'Fev', 'Mar', 'Abr'])\n",
    "\n",
    "dataframe.plot.line()"
   ]
  },
  {
   "cell_type": "code",
   "execution_count": null,
   "id": "032f4f97",
   "metadata": {},
   "outputs": [],
   "source": []
  }
 ],
 "metadata": {
  "kernelspec": {
   "display_name": "Python 3 (ipykernel)",
   "language": "python",
   "name": "python3"
  },
  "language_info": {
   "codemirror_mode": {
    "name": "ipython",
    "version": 3
   },
   "file_extension": ".py",
   "mimetype": "text/x-python",
   "name": "python",
   "nbconvert_exporter": "python",
   "pygments_lexer": "ipython3",
   "version": "3.10.4"
  }
 },
 "nbformat": 4,
 "nbformat_minor": 5
}
